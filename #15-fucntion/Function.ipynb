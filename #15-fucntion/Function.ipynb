{
 "cells": [
  {
   "attachments": {},
   "cell_type": "markdown",
   "metadata": {},
   "source": [
    "Function"
   ]
  },
  {
   "cell_type": "code",
   "execution_count": null,
   "metadata": {},
   "outputs": [],
   "source": [
    "def panggilhello() : #definisi dlu baru panggil\n",
    "    print(\"helo world\")\n",
    "    print(\"helo world\")\n",
    "    print(\"helo world\")\n",
    "    print(\"helo world\")\n",
    "    print(\"helo world\")\n",
    "    \n",
    "panggilhello()"
   ]
  },
  {
   "attachments": {},
   "cell_type": "markdown",
   "metadata": {},
   "source": [
    "Function dengan argumen"
   ]
  },
  {
   "cell_type": "code",
   "execution_count": 4,
   "metadata": {},
   "outputs": [
    {
     "name": "stdout",
     "output_type": "stream",
     "text": [
      "8\n"
     ]
    }
   ],
   "source": [
    "def jumlah(angka1 ,angka2) :\n",
    "    hasil = angka1 + angka2\n",
    "    print(hasil)\n",
    "jumlah(5,3)"
   ]
  },
  {
   "cell_type": "code",
   "execution_count": 6,
   "metadata": {},
   "outputs": [
    {
     "name": "stdout",
     "output_type": "stream",
     "text": [
      "halo selamat datang tuan : ucup\n"
     ]
    }
   ],
   "source": [
    "def sambutan(nama) :\n",
    "    print(\"halo selamat datang tuan :\", nama)\n",
    "\n",
    "sambutan(\"ucup\")"
   ]
  },
  {
   "cell_type": "code",
   "execution_count": 7,
   "metadata": {},
   "outputs": [
    {
     "name": "stdout",
     "output_type": "stream",
     "text": [
      "selamat berjuang tatang\n",
      "selamat berjuang suherman\n",
      "selamat berjuang david\n"
     ]
    }
   ],
   "source": [
    "#function ini bisa kita isi argumennya dengan list\n",
    "def sayhi (peserta) :\n",
    "    for i in peserta :\n",
    "        print(\"selamat berjuang\", i)\n",
    "\n",
    "listpeserta = [\"tatang\", \"suherman\" , \"david\"]\n",
    "sayhi(listpeserta)"
   ]
  },
  {
   "attachments": {},
   "cell_type": "markdown",
   "metadata": {},
   "source": [
    "Function dengan return"
   ]
  },
  {
   "cell_type": "code",
   "execution_count": 20,
   "metadata": {},
   "outputs": [
    {
     "name": "stdout",
     "output_type": "stream",
     "text": [
      "2\n"
     ]
    }
   ],
   "source": [
    "def kali(angka1, angka2) :\n",
    "    c = angka1 * angka2\n",
    "    f = angka1 + angka2\n",
    "    return angka2 #dengan return kita bisa mimilh mana variable yang ingin kita simpan\n",
    "#################################\n",
    "a = kali(5,2)\n",
    "print(a)"
   ]
  },
  {
   "cell_type": "code",
   "execution_count": 18,
   "metadata": {},
   "outputs": [
    {
     "name": "stdout",
     "output_type": "stream",
     "text": [
      "21\n"
     ]
    }
   ],
   "source": [
    "def hi(nama ,umur ,tb) :\n",
    "    hi1 = \"halo selamat siang mas \" + nama\n",
    "    hi2 = \"umurnya anda \" + umur +\"beratnya anda\" + tb\n",
    "    return umur\n",
    "\n",
    "################################################\n",
    "d = hi(\"ucup\" , \"21\")\n",
    "print(d)"
   ]
  },
  {
   "attachments": {},
   "cell_type": "markdown",
   "metadata": {},
   "source": [
    "Lambda Function"
   ]
  },
  {
   "cell_type": "code",
   "execution_count": 22,
   "metadata": {},
   "outputs": [
    {
     "name": "stdout",
     "output_type": "stream",
     "text": [
      "9\n",
      "16\n"
     ]
    }
   ],
   "source": [
    "#lambda itu sudah pasti return dan punya argumen\n",
    "\n",
    "#x=2\n",
    "kuadrat = lambda x : x**2\n",
    "###################################\n",
    "print(kuadrat(3))\n",
    "\n",
    "pangkat = lambda x,i : x**i\n",
    "##################################\n",
    "print(pangkat(2,4))"
   ]
  },
  {
   "cell_type": "code",
   "execution_count": 30,
   "metadata": {},
   "outputs": [
    {
     "data": {
      "text/plain": [
       "0     0\n",
       "1     1\n",
       "2     1\n",
       "3     0\n",
       "4     0\n",
       "5     1\n",
       "6     0\n",
       "7     1\n",
       "8     0\n",
       "9     0\n",
       "10    0\n",
       "11    1\n",
       "dtype: int64"
      ]
     },
     "execution_count": 30,
     "metadata": {},
     "output_type": "execute_result"
    }
   ],
   "source": [
    "cancer = [0,1,1,0,0,1,0,1,0,0,0,1]\n",
    "import pandas as pd\n",
    "cancer = pd.Series(cancer)\n",
    "\n",
    "cancer"
   ]
  },
  {
   "attachments": {},
   "cell_type": "markdown",
   "metadata": {},
   "source": [
    "ingin mengubah data yang ada dicancer jika dia 0 maka dia negatif , jika 1 maka postif"
   ]
  },
  {
   "cell_type": "code",
   "execution_count": 31,
   "metadata": {},
   "outputs": [
    {
     "data": {
      "text/plain": [
       "0     negatif\n",
       "1     positif\n",
       "2     positif\n",
       "3     negatif\n",
       "4     negatif\n",
       "5     positif\n",
       "6     negatif\n",
       "7     positif\n",
       "8     negatif\n",
       "9     negatif\n",
       "10    negatif\n",
       "11    positif\n",
       "dtype: object"
      ]
     },
     "execution_count": 31,
     "metadata": {},
     "output_type": "execute_result"
    }
   ],
   "source": [
    "cancer = cancer.apply(lambda x : 'positif' if x==1 else 'negatif')\n",
    "cancer"
   ]
  }
 ],
 "metadata": {
  "kernelspec": {
   "display_name": "Python 3",
   "language": "python",
   "name": "python3"
  },
  "language_info": {
   "codemirror_mode": {
    "name": "ipython",
    "version": 3
   },
   "file_extension": ".py",
   "mimetype": "text/x-python",
   "name": "python",
   "nbconvert_exporter": "python",
   "pygments_lexer": "ipython3",
   "version": "3.11.2"
  },
  "orig_nbformat": 4
 },
 "nbformat": 4,
 "nbformat_minor": 2
}
