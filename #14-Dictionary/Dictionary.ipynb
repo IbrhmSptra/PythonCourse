{
 "cells": [
  {
   "attachments": {},
   "cell_type": "markdown",
   "metadata": {},
   "source": [
    "Dictionary"
   ]
  },
  {
   "cell_type": "code",
   "execution_count": 2,
   "metadata": {},
   "outputs": [],
   "source": [
    "mydict = {\n",
    "    \"nama\" : \"ucup\",\n",
    "    \"umur\" : 21,\n",
    "    \"tinggi\" : 160\n",
    "}"
   ]
  },
  {
   "cell_type": "code",
   "execution_count": 5,
   "metadata": {},
   "outputs": [],
   "source": [
    "mydict[\"tinggi\"] #Akses dictionary (Menggunakn key)\n",
    "a = mydict['umur'] #mengambil menggunkan key"
   ]
  },
  {
   "cell_type": "code",
   "execution_count": 8,
   "metadata": {},
   "outputs": [
    {
     "data": {
      "text/plain": [
       "{'nama': 'asep', 'umur': 21, 'tinggi': 160, 'berat': 64}"
      ]
     },
     "execution_count": 8,
     "metadata": {},
     "output_type": "execute_result"
    }
   ],
   "source": [
    "mydict[\"nama\"] = \"asep\" #semisal keynya sudah ada dia bakalan ngubah value originalnya\n",
    "mydict                  #semisal keynya belum ada dia bakalan membuat key baru"
   ]
  },
  {
   "cell_type": "code",
   "execution_count": 9,
   "metadata": {},
   "outputs": [],
   "source": [
    "del mydict[\"berat\"] #cara menghapus key dan value di dictionary"
   ]
  },
  {
   "cell_type": "code",
   "execution_count": 13,
   "metadata": {},
   "outputs": [
    {
     "data": {
      "text/plain": [
       "True"
      ]
     },
     "execution_count": 13,
     "metadata": {},
     "output_type": "execute_result"
    }
   ],
   "source": [
    "len(mydict) #untuk mencari tau size terhadap variable collections\n",
    "\"nama\" in mydict #untuk mengetahu key tersebut ada atau tidak di variable dictionary"
   ]
  },
  {
   "cell_type": "code",
   "execution_count": 16,
   "metadata": {},
   "outputs": [
    {
     "data": {
      "text/plain": [
       "dict_items([('nama', 'asep'), ('umur', 21), ('tinggi', 160)])"
      ]
     },
     "execution_count": 16,
     "metadata": {},
     "output_type": "execute_result"
    }
   ],
   "source": [
    "#mengambil keynya saja\n",
    "mydict.keys()\n",
    "#mengambil valuenya saja\n",
    "mydict.values()\n",
    "mydict.items()"
   ]
  },
  {
   "cell_type": "code",
   "execution_count": 24,
   "metadata": {},
   "outputs": [
    {
     "data": {
      "text/plain": [
       "{'nama': ['ucup', 'asep', 'udin'],\n",
       " 'kelas': [2, 1, 2],\n",
       " 'jurusan': ['ipa', 'ips', 'bahasa']}"
      ]
     },
     "execution_count": 24,
     "metadata": {},
     "output_type": "execute_result"
    }
   ],
   "source": [
    "#tables with dictionary -> satu keys bisa menyimpan banyak value(list)\n",
    "siswa = {\n",
    "    'nama' : [\"ucup\", \"asep\", \"udin\"],\n",
    "    'kelas' : [2,1,2],\n",
    "    'jurusan': [\"ipa\", \"ips\" , \"bahasa\"]\n",
    "}\n",
    "siswa"
   ]
  },
  {
   "cell_type": "code",
   "execution_count": 19,
   "metadata": {},
   "outputs": [],
   "source": [
    "siswacopy = siswa.copy() # ini kalu mau copy dictionary\n"
   ]
  },
  {
   "attachments": {},
   "cell_type": "markdown",
   "metadata": {},
   "source": [
    "Nested dictionary ->sebuah dictionary dengan menyimpan value dictionary juga"
   ]
  },
  {
   "cell_type": "code",
   "execution_count": 21,
   "metadata": {},
   "outputs": [],
   "source": [
    "siswa1 = {\n",
    "    'nama' : 'ucup',\n",
    "    'kelas' : 2,\n",
    "    'jurusan': 'ipa'\n",
    "}\n",
    "siswa2 = {\n",
    "    'nama' : 'udin',\n",
    "    'kelas' : 4,\n",
    "    'jurusan': 'ips'\n",
    "}\n",
    "siswa3 = {\n",
    "    'nama' : 'supri',\n",
    "    'kelas' : 1,\n",
    "    'jurusan': 'bahsqa'\n",
    "}"
   ]
  },
  {
   "cell_type": "code",
   "execution_count": 29,
   "metadata": {},
   "outputs": [
    {
     "data": {
      "text/plain": [
       "'udin'"
      ]
     },
     "execution_count": 29,
     "metadata": {},
     "output_type": "execute_result"
    }
   ],
   "source": [
    "sdn01jakarta = {\n",
    "    '02131' : siswa1,\n",
    "    '20134' : siswa2,\n",
    "    '08123' : siswa3\n",
    "}\n",
    "sdn01jakarta['20134']['nama']"
   ]
  },
  {
   "cell_type": "code",
   "execution_count": 27,
   "metadata": {},
   "outputs": [],
   "source": [
    "#update\n",
    "mydict.update({\"umur\" : \"60\"}) #semisal belum ada create key baru\n",
    "                                #semisal sudah ada bakalan ngubah value"
   ]
  }
 ],
 "metadata": {
  "kernelspec": {
   "display_name": "Python 3",
   "language": "python",
   "name": "python3"
  },
  "language_info": {
   "codemirror_mode": {
    "name": "ipython",
    "version": 3
   },
   "file_extension": ".py",
   "mimetype": "text/x-python",
   "name": "python",
   "nbconvert_exporter": "python",
   "pygments_lexer": "ipython3",
   "version": "3.11.2"
  },
  "orig_nbformat": 4
 },
 "nbformat": 4,
 "nbformat_minor": 2
}
