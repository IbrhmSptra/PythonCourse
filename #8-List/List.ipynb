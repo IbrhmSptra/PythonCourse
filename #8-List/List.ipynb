{
 "cells": [
  {
   "attachments": {},
   "cell_type": "markdown",
   "metadata": {},
   "source": [
    "LIST"
   ]
  },
  {
   "attachments": {},
   "cell_type": "markdown",
   "metadata": {},
   "source": [
    "List Merupakan variable yang memiliki banyak value"
   ]
  },
  {
   "cell_type": "code",
   "execution_count": 9,
   "metadata": {},
   "outputs": [
    {
     "data": {
      "text/plain": [
       "[12, 1.3, 'halo', True, 'Baim']"
      ]
     },
     "execution_count": 9,
     "metadata": {},
     "output_type": "execute_result"
    }
   ],
   "source": [
    "#list dengan macam macam tipe value\n",
    "listsaya = [12,1.3,\"halo\",True]\n",
    "listsaya"
   ]
  },
  {
   "cell_type": "code",
   "execution_count": 5,
   "metadata": {},
   "outputs": [
    {
     "data": {
      "text/plain": [
       "['h', 'a', 'l', 'o', ' ', 'b', 'a', 'n', 'g']"
      ]
     },
     "execution_count": 5,
     "metadata": {},
     "output_type": "execute_result"
    }
   ],
   "source": [
    "#cara membuat list dari iterable (String)\n",
    "#Iterable -> String , List, Sets, Tuples, Dictionary iterable adalah tipe yang bisa di akses dengan index dan slicing\n",
    "listkedua =  list(\"halo bang\")\n",
    "listkedua\n"
   ]
  },
  {
   "cell_type": "code",
   "execution_count": 6,
   "metadata": {},
   "outputs": [
    {
     "data": {
      "text/plain": [
       "[]"
      ]
     },
     "execution_count": 6,
     "metadata": {},
     "output_type": "execute_result"
    }
   ],
   "source": [
    "#emty List\n",
    "emptylist = []\n",
    "emptylist"
   ]
  },
  {
   "cell_type": "code",
   "execution_count": 8,
   "metadata": {},
   "outputs": [
    {
     "data": {
      "text/plain": [
       "['Dudung', 'Dudung']"
      ]
     },
     "execution_count": 8,
     "metadata": {},
     "output_type": "execute_result"
    }
   ],
   "source": [
    "#append -> fungsi untuk menambahkan value\n",
    "emptylist.append(\"Dudung\") #harus memasukan satu value\n",
    "emptylist"
   ]
  },
  {
   "cell_type": "code",
   "execution_count": 15,
   "metadata": {},
   "outputs": [],
   "source": [
    "#remove -> menghapus value pada list\n",
    "emptylist.remove(\"Dudung\") #besar kecilnya perlu diperhatikan"
   ]
  },
  {
   "cell_type": "code",
   "execution_count": 16,
   "metadata": {},
   "outputs": [],
   "source": [
    "#combine 2 list jadi satu\n",
    "combinedlist = emptylist + listsaya\n",
    "            #  dudung,tatang + 12,1.3,\"halo\",True"
   ]
  },
  {
   "cell_type": "code",
   "execution_count": 18,
   "metadata": {},
   "outputs": [],
   "source": [
    "#mengabung/memanjangkan list menjadi satu dengan extend\n",
    "angka.extend(emptylist)"
   ]
  },
  {
   "cell_type": "code",
   "execution_count": 49,
   "metadata": {},
   "outputs": [
    {
     "name": "stdout",
     "output_type": "stream",
     "text": [
      "8\n",
      "15\n",
      "2\n",
      "50\n",
      "6.25\n"
     ]
    }
   ],
   "source": [
    "#list function\n",
    "numeric = [2,9,8,10,15,2,2,2]\n",
    "print(len(numeric)) #mencari size / panjangnya\n",
    "print(max(numeric)) #mencari nilai terbesar\n",
    "print(min(numeric)) #mencari nilai terkecil\n",
    "print(sum(numeric)) #menghitung total\n",
    "print(sum(numeric)/len(numeric)) #menghitung rata rata / mean"
   ]
  },
  {
   "cell_type": "code",
   "execution_count": 25,
   "metadata": {},
   "outputs": [
    {
     "data": {
      "text/plain": [
       "True"
      ]
     },
     "execution_count": 25,
     "metadata": {},
     "output_type": "execute_result"
    }
   ],
   "source": [
    "#cek pakah ada value pada list\n",
    "2 in numeric"
   ]
  },
  {
   "cell_type": "code",
   "execution_count": 27,
   "metadata": {},
   "outputs": [
    {
     "data": {
      "text/plain": [
       "False"
      ]
     },
     "execution_count": 27,
     "metadata": {},
     "output_type": "execute_result"
    }
   ],
   "source": [
    "#kebalikan dari in\n",
    "2 not in numeric"
   ]
  },
  {
   "cell_type": "code",
   "execution_count": 32,
   "metadata": {},
   "outputs": [
    {
     "data": {
      "text/plain": [
       "4"
      ]
     },
     "execution_count": 32,
     "metadata": {},
     "output_type": "execute_result"
    }
   ],
   "source": [
    "#mencari tahu berapa kemunculan dari value pada list\n",
    "numeric.count(2)"
   ]
  },
  {
   "cell_type": "code",
   "execution_count": 34,
   "metadata": {},
   "outputs": [],
   "source": [
    "#sorting\n",
    "numeric.sort() #mengurutkan list dari yang terkecil ke yang terbesar\n",
    "numeric.reverse() #mengubah susunan dari yang posisi akhir jadi yang awal dan sebaliknya\n"
   ]
  },
  {
   "attachments": {},
   "cell_type": "markdown",
   "metadata": {},
   "source": [
    "INDEX DAN SLICING"
   ]
  },
  {
   "cell_type": "code",
   "execution_count": 46,
   "metadata": {},
   "outputs": [
    {
     "data": {
      "text/plain": [
       "['Dudung', True]"
      ]
     },
     "execution_count": 46,
     "metadata": {},
     "output_type": "execute_result"
    }
   ],
   "source": [
    "emptylist = [\"Dudung\" , \"tatang\", \"ucup\"]\n",
    "#               0     ,     1   ,    2\n",
    "emptylist[0] #index\n",
    "emptylist[1:3] #slicing\n",
    "combinedlist[0::2] #[start:stop:step]"
   ]
  },
  {
   "attachments": {},
   "cell_type": "markdown",
   "metadata": {},
   "source": [
    "NESTED LIST"
   ]
  },
  {
   "cell_type": "code",
   "execution_count": 52,
   "metadata": {},
   "outputs": [
    {
     "data": {
      "text/plain": [
       "[['baim', 'dudung'], [10, 30], [True, False]]"
      ]
     },
     "execution_count": 52,
     "metadata": {},
     "output_type": "execute_result"
    }
   ],
   "source": [
    "#list didalam list\n",
    "nestedmentah = [[\"baim\",\"dudung\"] , [10,30] , [True,False]]\n",
    "NestedList = [angka ,emptylist] #dengan list yang udah ada\n",
    "nestedmentah"
   ]
  },
  {
   "cell_type": "code",
   "execution_count": 77,
   "metadata": {},
   "outputs": [
    {
     "name": "stdout",
     "output_type": "stream",
     "text": [
      "baim\n",
      "10\n"
     ]
    },
    {
     "data": {
      "text/plain": [
       "['baim']"
      ]
     },
     "execution_count": 77,
     "metadata": {},
     "output_type": "execute_result"
    }
   ],
   "source": [
    "#akses index nested list\n",
    "#                  0   ,   1         0 , 1      0  ,  1\n",
    "nestedmentah = [[\"baim\",\"dudung\"] , [10,30] , [True,False]]\n",
    "#                       0         ,    1    ,      2\n",
    "print(nestedmentah[0][0]) #akses index nested list\n",
    "print(nestedmentah[1][0])\n",
    "nestedmentah[0][0:1] # slicing output baim"
   ]
  },
  {
   "cell_type": "code",
   "execution_count": null,
   "metadata": {},
   "outputs": [],
   "source": [
    "#remove by index\n",
    "del(emptylist[2]) #remove value pada list by index"
   ]
  },
  {
   "cell_type": "code",
   "execution_count": 85,
   "metadata": {},
   "outputs": [],
   "source": [
    "#remove by pop\n",
    "\n",
    "hasilpop = emptylist.pop() # ngehapus value pada urutan akhir dan mengambilnya lalu disimpan di variable baru\n"
   ]
  },
  {
   "cell_type": "code",
   "execution_count": 86,
   "metadata": {},
   "outputs": [],
   "source": [
    "#ngubah value pada list\n",
    "listsaya[3] = \"tatang\" #akses index dan kasih value yan inginkan"
   ]
  },
  {
   "attachments": {},
   "cell_type": "markdown",
   "metadata": {},
   "source": [
    "Copy List"
   ]
  },
  {
   "cell_type": "code",
   "execution_count": 93,
   "metadata": {},
   "outputs": [],
   "source": [
    "copylist = listsaya #duplikat list\n",
    "\n",
    "listsaya[1] = 3 #shallow copy # tidak disarnkan untuk mencopy list\n",
    "\n"
   ]
  },
  {
   "cell_type": "code",
   "execution_count": 100,
   "metadata": {},
   "outputs": [],
   "source": [
    "#duplikat dengan copy\n",
    "copyfunlist = listsaya.copy() # disarnkan pakai .copy()"
   ]
  },
  {
   "cell_type": "code",
   "execution_count": 102,
   "metadata": {},
   "outputs": [
    {
     "data": {
      "text/plain": [
       "'tatang'"
      ]
     },
     "execution_count": 102,
     "metadata": {},
     "output_type": "execute_result"
    }
   ],
   "source": [
    "listsaya[1] = 100\n",
    "listsaya.pop()"
   ]
  },
  {
   "cell_type": "code",
   "execution_count": 92,
   "metadata": {},
   "outputs": [
    {
     "name": "stdout",
     "output_type": "stream",
     "text": [
      "0x23aa28e3800\n",
      "0x23aa2e7c0c0\n"
     ]
    }
   ],
   "source": [
    "print((hex(id(listsaya))))\n",
    "print((hex(id(copyfunlist)))) #addresnya bakal beda ketika pakai copy"
   ]
  },
  {
   "attachments": {},
   "cell_type": "markdown",
   "metadata": {},
   "source": [
    "DEEPCOPY"
   ]
  },
  {
   "cell_type": "code",
   "execution_count": 122,
   "metadata": {},
   "outputs": [
    {
     "name": "stdout",
     "output_type": "stream",
     "text": [
      "Data Original : [[5, 800], [90, 75], 'tatang']\n",
      "Data Copy : [[5, 100], [90, 75], 'ucup']\n"
     ]
    }
   ],
   "source": [
    "print(f\"Data Original : {datanested}\")\n",
    "print(f\"Data Copy : {nesteddeepcopy}\")"
   ]
  },
  {
   "cell_type": "code",
   "execution_count": 109,
   "metadata": {},
   "outputs": [
    {
     "data": {
      "text/plain": [
       "10"
      ]
     },
     "execution_count": 109,
     "metadata": {},
     "output_type": "execute_result"
    }
   ],
   "source": [
    "data1 = [5,10]\n",
    "data2 = [90,75]\n",
    "datanested = [data1 , data2 , \"Baim\"]\n",
    "\n",
    "#shallow copy\n",
    "nestedcopy = datanested.copy() #ini tidak disarankan untuk mengcopy nested list\n",
    "#akses index nested copy\n",
    "nestedcopy[0][1]"
   ]
  },
  {
   "cell_type": "code",
   "execution_count": 117,
   "metadata": {},
   "outputs": [],
   "source": [
    "#menggunakan deepcopy untuk nested\n",
    "from copy import deepcopy\n",
    "nesteddeepcopy = deepcopy(datanested) #deepcopy disarankan"
   ]
  },
  {
   "cell_type": "code",
   "execution_count": 121,
   "metadata": {},
   "outputs": [],
   "source": [
    "datanested[2]=\"tatang\""
   ]
  }
 ],
 "metadata": {
  "kernelspec": {
   "display_name": "Python 3",
   "language": "python",
   "name": "python3"
  },
  "language_info": {
   "codemirror_mode": {
    "name": "ipython",
    "version": 3
   },
   "file_extension": ".py",
   "mimetype": "text/x-python",
   "name": "python",
   "nbconvert_exporter": "python",
   "pygments_lexer": "ipython3",
   "version": "3.11.2"
  },
  "orig_nbformat": 4
 },
 "nbformat": 4,
 "nbformat_minor": 2
}
